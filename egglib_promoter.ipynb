{
 "cells": [
  {
   "cell_type": "code",
   "execution_count": 1,
   "id": "c597f2f4",
   "metadata": {},
   "outputs": [],
   "source": [
    "import egglib\n",
    "import glob \n",
    "import pandas as pd\n",
    "import numpy as np\n",
    "import os\n",
    "import seaborn as sns\n",
    "import matplotlib.pyplot as plt\n",
    "pd.options.mode.chained_assignment = None"
   ]
  },
  {
   "cell_type": "markdown",
   "id": "79b1dc65",
   "metadata": {},
   "source": [
    "Goal: calculate nucleotide diversity per site for maize promoter alignments using the egglib python package "
   ]
  },
  {
   "cell_type": "code",
   "execution_count": 2,
   "id": "d704ed55",
   "metadata": {},
   "outputs": [],
   "source": [
    "#write a function that takes in per-clade promoter alignment and outputs desired statistics \n",
    "directory='/global/scratch/projects/vector_kvklab/promoter_alignment/'\n",
    "def whole_aln(clade, max_missing):\n",
    "    #load alignment, and subset by domain\n",
    "    #print(clade)\n",
    "    aln_path=directory+clade+'/'+clade+'.fa'\n",
    "    aln=egglib.io.from_fasta(aln_path, alphabet=egglib.alphabets.DNA)\n",
    "    #print('Number of samples:')\n",
    "    #print(aln.ns)\n",
    "    #print('Alignment length:')\n",
    "    #print(aln.ls)\n",
    "    #print(type(aln))\n",
    "    \n",
    "    #compute across alignment stats\n",
    "    ls=egglib.stats.ComputeStats()\n",
    "    ls.configure(multi_hits=True, multi=False)\n",
    "    ls.add_stats('Pi', 'lseff', 'D')\n",
    "    stats=ls.process_align(aln, max_missing=max_missing)\n",
    "    \n",
    "    lseff=stats['lseff']\n",
    "    D=stats['D']\n",
    "    Pi=stats['Pi']\n",
    "    \n",
    "    \n",
    "    return({'clade':clade, 'Pi_raw':Pi, 'lseff':lseff, 'D': D})"
   ]
  },
  {
   "cell_type": "markdown",
   "id": "b86ba488",
   "metadata": {},
   "source": [
    "Calculate alignment wide Pi and D with max missing 0.25"
   ]
  },
  {
   "cell_type": "code",
   "execution_count": 4,
   "id": "972f5852",
   "metadata": {},
   "outputs": [
    {
     "name": "stdout",
     "output_type": "stream",
     "text": [
      "{'clade': 'RppC-like', 'Pi_raw': 5.168507666175887, 'lseff': 9, 'D': 4.725140464151213}\n",
      "{'clade': 'Int5711_52', 'Pi_raw': 422.52014126038176, 'lseff': 1397, 'D': 2.4136204388591636}\n"
     ]
    }
   ],
   "source": [
    "print(whole_aln('RppC-like', 0.25))\n",
    "print(whole_aln('Int5711_52', 0.25))"
   ]
  },
  {
   "cell_type": "markdown",
   "id": "0f522ea0",
   "metadata": {},
   "source": [
    "Calculate a sliding window analysis with a window of 300bp, step of 100bp "
   ]
  },
  {
   "cell_type": "code",
   "execution_count": 5,
   "id": "33fbc64d",
   "metadata": {},
   "outputs": [],
   "source": [
    "def sliding_window(clade, max_missing, window, step):\n",
    "    #load alignment, and subset by domain\n",
    "    print(clade)\n",
    "    aln_path=directory+clade+'/'+clade+'.fa'\n",
    "    aln=egglib.io.from_fasta(aln_path, alphabet=egglib.alphabets.DNA)\n",
    "    aln_length=aln.ls\n",
    "    \n",
    "    window_result=pd.DataFrame()\n",
    "    for i in range(0, int(aln_length/step)):\n",
    "       # print('start:', str(0+i*step), 'stop:', str(window+i*step))\n",
    "        subset=aln.extract(0+i*step, window+i*step)\n",
    "        ls=egglib.stats.ComputeStats()\n",
    "        ls.configure(multi_hits=True, multi=False)\n",
    "        ls.add_stats('Pi', 'lseff', 'D')\n",
    "        stats=ls.process_align(subset, max_missing=max_missing)\n",
    "\n",
    "        lseff=stats['lseff']\n",
    "        D=stats['D']\n",
    "        Pi=stats['Pi']\n",
    "        window_result=window_result.append({'clade':clade, 'start':0+i*step, 'end':window+i*step, 'Pi_raw':Pi, 'lseff':lseff, 'D': D}, ignore_index=True)\n",
    "        \n",
    "    return(window_result)"
   ]
  },
  {
   "cell_type": "markdown",
   "id": "bfb07e15",
   "metadata": {},
   "source": [
    "Calculate over Int5711_52"
   ]
  },
  {
   "cell_type": "code",
   "execution_count": 9,
   "id": "4d997ac8",
   "metadata": {},
   "outputs": [
    {
     "name": "stdout",
     "output_type": "stream",
     "text": [
      "{'clade': 'Int5711_52', 'Pi_raw': 334.7499887879439, 'lseff': 1117, 'D': 2.4555063887639874}\n",
      "Int5711_52\n"
     ]
    },
    {
     "data": {
      "text/plain": [
       "<matplotlib.lines.Line2D at 0x2b849054b310>"
      ]
     },
     "execution_count": 9,
     "metadata": {},
     "output_type": "execute_result"
    },
    {
     "data": {
      "image/png": "[encoded data removed]",
      "text/plain": [
       "<Figure size 432x288 with 1 Axes>"
      ]
     },
     "metadata": {
      "needs_background": "light"
     },
     "output_type": "display_data"
    }
   ],
   "source": [
    "#ALL TOGETHER NOW \n",
    "clade='Int5711_52'\n",
    "max_missing=0.1 \n",
    "\n",
    "#calculate gene wide stat \n",
    "whole_res=whole_aln(clade, max_missing)\n",
    "print(whole_res)\n",
    "pi=whole_res[\"Pi_raw\"]/whole_res['lseff']\n",
    "\n",
    "#calculate sliding window \n",
    "window_result=sliding_window(clade, max_missing, 300, 100)\n",
    "\n",
    "#plot \n",
    "dat=window_result[['clade', 'start', 'end', 'lseff', 'Pi_raw', 'D']]\n",
    "dat['Pi']=dat['Pi_raw']/dat['lseff']\n",
    "dat['midpoint']=dat['start']+150\n",
    "    \n",
    "sns.pointplot(data=dat, x=\"midpoint\", y=\"Pi\").set_title(clade+' '+str(max_missing))\n",
    "plt.xlabel('Alignment Position')\n",
    "plt.axhline(pi, ls='--')\n",
    "plt.show()"
   ]
  },
  {
   "cell_type": "markdown",
   "id": "7318cada",
   "metadata": {},
   "source": [
    "Test how varying `max_missing` changes the estimated Pi value from both clades"
   ]
  },
  {
   "cell_type": "code",
   "execution_count": 10,
   "id": "b45df489",
   "metadata": {},
   "outputs": [
    {
     "data": {
      "text/html": [
       "<div>\n",
       "<style scoped>\n",
       "    .dataframe tbody tr th:only-of-type {\n",
       "        vertical-align: middle;\n",
       "    }\n",
       "\n",
       "    .dataframe tbody tr th {\n",
       "        vertical-align: top;\n",
       "    }\n",
       "\n",
       "    .dataframe thead th {\n",
       "        text-align: right;\n",
       "    }\n",
       "</style>\n",
       "<table border=\"1\" class=\"dataframe\">\n",
       "  <thead>\n",
       "    <tr style=\"text-align: right;\">\n",
       "      <th></th>\n",
       "      <th>Pi</th>\n",
       "      <th>clade</th>\n",
       "      <th>lseff</th>\n",
       "      <th>max_missing</th>\n",
       "    </tr>\n",
       "  </thead>\n",
       "  <tbody>\n",
       "    <tr>\n",
       "      <td>0</td>\n",
       "      <td>0.278415</td>\n",
       "      <td>Int5711_52</td>\n",
       "      <td>577.0</td>\n",
       "      <td>0.0</td>\n",
       "    </tr>\n",
       "    <tr>\n",
       "      <td>1</td>\n",
       "      <td>0.299687</td>\n",
       "      <td>Int5711_52</td>\n",
       "      <td>1117.0</td>\n",
       "      <td>0.1</td>\n",
       "    </tr>\n",
       "    <tr>\n",
       "      <td>2</td>\n",
       "      <td>0.300674</td>\n",
       "      <td>Int5711_52</td>\n",
       "      <td>1352.0</td>\n",
       "      <td>0.2</td>\n",
       "    </tr>\n",
       "    <tr>\n",
       "      <td>3</td>\n",
       "      <td>0.298244</td>\n",
       "      <td>Int5711_52</td>\n",
       "      <td>1512.0</td>\n",
       "      <td>0.3</td>\n",
       "    </tr>\n",
       "    <tr>\n",
       "      <td>4</td>\n",
       "      <td>0.292955</td>\n",
       "      <td>Int5711_52</td>\n",
       "      <td>1657.0</td>\n",
       "      <td>0.4</td>\n",
       "    </tr>\n",
       "    <tr>\n",
       "      <td>5</td>\n",
       "      <td>0.265679</td>\n",
       "      <td>Int5711_52</td>\n",
       "      <td>1912.0</td>\n",
       "      <td>0.5</td>\n",
       "    </tr>\n",
       "    <tr>\n",
       "      <td>6</td>\n",
       "      <td>NaN</td>\n",
       "      <td>RppC-like</td>\n",
       "      <td>0.0</td>\n",
       "      <td>0.0</td>\n",
       "    </tr>\n",
       "    <tr>\n",
       "      <td>7</td>\n",
       "      <td>NaN</td>\n",
       "      <td>RppC-like</td>\n",
       "      <td>0.0</td>\n",
       "      <td>0.1</td>\n",
       "    </tr>\n",
       "    <tr>\n",
       "      <td>8</td>\n",
       "      <td>NaN</td>\n",
       "      <td>RppC-like</td>\n",
       "      <td>0.0</td>\n",
       "      <td>0.2</td>\n",
       "    </tr>\n",
       "    <tr>\n",
       "      <td>9</td>\n",
       "      <td>0.568509</td>\n",
       "      <td>RppC-like</td>\n",
       "      <td>20.0</td>\n",
       "      <td>0.3</td>\n",
       "    </tr>\n",
       "    <tr>\n",
       "      <td>10</td>\n",
       "      <td>0.443086</td>\n",
       "      <td>RppC-like</td>\n",
       "      <td>594.0</td>\n",
       "      <td>0.4</td>\n",
       "    </tr>\n",
       "    <tr>\n",
       "      <td>11</td>\n",
       "      <td>0.435510</td>\n",
       "      <td>RppC-like</td>\n",
       "      <td>1044.0</td>\n",
       "      <td>0.5</td>\n",
       "    </tr>\n",
       "  </tbody>\n",
       "</table>\n",
       "</div>"
      ],
      "text/plain": [
       "          Pi       clade   lseff  max_missing\n",
       "0   0.278415  Int5711_52   577.0          0.0\n",
       "1   0.299687  Int5711_52  1117.0          0.1\n",
       "2   0.300674  Int5711_52  1352.0          0.2\n",
       "3   0.298244  Int5711_52  1512.0          0.3\n",
       "4   0.292955  Int5711_52  1657.0          0.4\n",
       "5   0.265679  Int5711_52  1912.0          0.5\n",
       "6        NaN   RppC-like     0.0          0.0\n",
       "7        NaN   RppC-like     0.0          0.1\n",
       "8        NaN   RppC-like     0.0          0.2\n",
       "9   0.568509   RppC-like    20.0          0.3\n",
       "10  0.443086   RppC-like   594.0          0.4\n",
       "11  0.435510   RppC-like  1044.0          0.5"
      ]
     },
     "execution_count": 10,
     "metadata": {},
     "output_type": "execute_result"
    }
   ],
   "source": [
    "#test different max missing on whole aln values of RPPC and Int5711_52 \n",
    "clade='Int5711_52'\n",
    "var=pd.DataFrame()\n",
    "for i in np.arange(0, 0.55, 0.1):\n",
    "    whole_res=whole_aln(clade, i)\n",
    "    pi=whole_res[\"Pi_raw\"]/whole_res['lseff']\n",
    "    lseff=whole_res['lseff']\n",
    "    var=var.append({'clade':clade, 'max_missing':i, 'Pi':pi, 'lseff':lseff}, ignore_index=True)\n",
    "    \n",
    "clade='RppC-like'\n",
    "for i in np.arange(0, 0.55, 0.1):\n",
    "    whole_res=whole_aln(clade, i)\n",
    "    \n",
    "    if whole_res['lseff'] == 0:\n",
    "        pi=np.nan\n",
    "    else:\n",
    "        pi=whole_res[\"Pi_raw\"]/whole_res['lseff']\n",
    "\n",
    "    var=var.append({'clade':clade, 'max_missing':i, 'Pi':pi, 'lseff':whole_res['lseff']}, ignore_index=True)    \n",
    "var"
   ]
  },
  {
   "cell_type": "code",
   "execution_count": 11,
   "id": "e8726a57",
   "metadata": {},
   "outputs": [
    {
     "data": {
      "image/png": "[encoded data removed]",
      "text/plain": [
       "<Figure size 432x288 with 1 Axes>"
      ]
     },
     "metadata": {
      "needs_background": "light"
     },
     "output_type": "display_data"
    }
   ],
   "source": [
    "sns.pointplot(data=var, x=\"max_missing\", y=\"Pi\", hue='clade').set_title('Whole alignment calculation of Pi relative to maximum missing proporition ')\n",
    "plt.xlabel('Maximum Missing Proportion at each position')\n",
    "plt.show()"
   ]
  },
  {
   "cell_type": "code",
   "execution_count": 12,
   "id": "6ee75ac1",
   "metadata": {},
   "outputs": [
    {
     "data": {
      "image/png": "[encoded data removed]",
      "text/plain": [
       "<Figure size 432x288 with 1 Axes>"
      ]
     },
     "metadata": {
      "needs_background": "light"
     },
     "output_type": "display_data"
    }
   ],
   "source": [
    "sns.pointplot(data=var, x=\"max_missing\", y=\"lseff\", hue='clade').set_title('Whole alignment Number of sites')\n",
    "plt.xlabel('Effective # of sites')\n",
    "plt.show()"
   ]
  },
  {
   "cell_type": "markdown",
   "id": "4c1c6da5",
   "metadata": {},
   "source": [
    "Extend to across window "
   ]
  },
  {
   "cell_type": "code",
   "execution_count": 13,
   "id": "c91b36b8",
   "metadata": {},
   "outputs": [
    {
     "name": "stdout",
     "output_type": "stream",
     "text": [
      "Int5711_52\n",
      "Int5711_52\n",
      "Int5711_52\n",
      "Int5711_52\n",
      "Int5711_52\n",
      "Int5711_52\n"
     ]
    },
    {
     "data": {
      "text/html": [
       "<div>\n",
       "<style scoped>\n",
       "    .dataframe tbody tr th:only-of-type {\n",
       "        vertical-align: middle;\n",
       "    }\n",
       "\n",
       "    .dataframe tbody tr th {\n",
       "        vertical-align: top;\n",
       "    }\n",
       "\n",
       "    .dataframe thead th {\n",
       "        text-align: right;\n",
       "    }\n",
       "</style>\n",
       "<table border=\"1\" class=\"dataframe\">\n",
       "  <thead>\n",
       "    <tr style=\"text-align: right;\">\n",
       "      <th></th>\n",
       "      <th>D</th>\n",
       "      <th>Pi_raw</th>\n",
       "      <th>clade</th>\n",
       "      <th>end</th>\n",
       "      <th>lseff</th>\n",
       "      <th>start</th>\n",
       "      <th>max_missing</th>\n",
       "    </tr>\n",
       "  </thead>\n",
       "  <tbody>\n",
       "    <tr>\n",
       "      <td>0</td>\n",
       "      <td>NaN</td>\n",
       "      <td>NaN</td>\n",
       "      <td>Int5711_52</td>\n",
       "      <td>300.0</td>\n",
       "      <td>0.0</td>\n",
       "      <td>0.0</td>\n",
       "      <td>0.0</td>\n",
       "    </tr>\n",
       "    <tr>\n",
       "      <td>1</td>\n",
       "      <td>NaN</td>\n",
       "      <td>NaN</td>\n",
       "      <td>Int5711_52</td>\n",
       "      <td>400.0</td>\n",
       "      <td>0.0</td>\n",
       "      <td>100.0</td>\n",
       "      <td>0.0</td>\n",
       "    </tr>\n",
       "    <tr>\n",
       "      <td>2</td>\n",
       "      <td>NaN</td>\n",
       "      <td>NaN</td>\n",
       "      <td>Int5711_52</td>\n",
       "      <td>500.0</td>\n",
       "      <td>0.0</td>\n",
       "      <td>200.0</td>\n",
       "      <td>0.0</td>\n",
       "    </tr>\n",
       "    <tr>\n",
       "      <td>3</td>\n",
       "      <td>NaN</td>\n",
       "      <td>NaN</td>\n",
       "      <td>Int5711_52</td>\n",
       "      <td>600.0</td>\n",
       "      <td>0.0</td>\n",
       "      <td>300.0</td>\n",
       "      <td>0.0</td>\n",
       "    </tr>\n",
       "    <tr>\n",
       "      <td>4</td>\n",
       "      <td>NaN</td>\n",
       "      <td>NaN</td>\n",
       "      <td>Int5711_52</td>\n",
       "      <td>700.0</td>\n",
       "      <td>0.0</td>\n",
       "      <td>400.0</td>\n",
       "      <td>0.0</td>\n",
       "    </tr>\n",
       "    <tr>\n",
       "      <td>...</td>\n",
       "      <td>...</td>\n",
       "      <td>...</td>\n",
       "      <td>...</td>\n",
       "      <td>...</td>\n",
       "      <td>...</td>\n",
       "      <td>...</td>\n",
       "      <td>...</td>\n",
       "    </tr>\n",
       "    <tr>\n",
       "      <td>42</td>\n",
       "      <td>-0.289824</td>\n",
       "      <td>10.605856</td>\n",
       "      <td>Int5711_52</td>\n",
       "      <td>4500.0</td>\n",
       "      <td>59.0</td>\n",
       "      <td>4200.0</td>\n",
       "      <td>0.5</td>\n",
       "    </tr>\n",
       "    <tr>\n",
       "      <td>43</td>\n",
       "      <td>-0.170529</td>\n",
       "      <td>19.272364</td>\n",
       "      <td>Int5711_52</td>\n",
       "      <td>4600.0</td>\n",
       "      <td>95.0</td>\n",
       "      <td>4300.0</td>\n",
       "      <td>0.5</td>\n",
       "    </tr>\n",
       "    <tr>\n",
       "      <td>44</td>\n",
       "      <td>-0.456514</td>\n",
       "      <td>28.167938</td>\n",
       "      <td>Int5711_52</td>\n",
       "      <td>4700.0</td>\n",
       "      <td>147.0</td>\n",
       "      <td>4400.0</td>\n",
       "      <td>0.5</td>\n",
       "    </tr>\n",
       "    <tr>\n",
       "      <td>45</td>\n",
       "      <td>-0.594718</td>\n",
       "      <td>17.562083</td>\n",
       "      <td>Int5711_52</td>\n",
       "      <td>4800.0</td>\n",
       "      <td>88.0</td>\n",
       "      <td>4500.0</td>\n",
       "      <td>0.5</td>\n",
       "    </tr>\n",
       "    <tr>\n",
       "      <td>46</td>\n",
       "      <td>-0.988831</td>\n",
       "      <td>8.895574</td>\n",
       "      <td>Int5711_52</td>\n",
       "      <td>4900.0</td>\n",
       "      <td>52.0</td>\n",
       "      <td>4600.0</td>\n",
       "      <td>0.5</td>\n",
       "    </tr>\n",
       "  </tbody>\n",
       "</table>\n",
       "<p>282 rows × 7 columns</p>\n",
       "</div>"
      ],
      "text/plain": [
       "           D     Pi_raw       clade     end  lseff   start  max_missing\n",
       "0        NaN        NaN  Int5711_52   300.0    0.0     0.0          0.0\n",
       "1        NaN        NaN  Int5711_52   400.0    0.0   100.0          0.0\n",
       "2        NaN        NaN  Int5711_52   500.0    0.0   200.0          0.0\n",
       "3        NaN        NaN  Int5711_52   600.0    0.0   300.0          0.0\n",
       "4        NaN        NaN  Int5711_52   700.0    0.0   400.0          0.0\n",
       "..       ...        ...         ...     ...    ...     ...          ...\n",
       "42 -0.289824  10.605856  Int5711_52  4500.0   59.0  4200.0          0.5\n",
       "43 -0.170529  19.272364  Int5711_52  4600.0   95.0  4300.0          0.5\n",
       "44 -0.456514  28.167938  Int5711_52  4700.0  147.0  4400.0          0.5\n",
       "45 -0.594718  17.562083  Int5711_52  4800.0   88.0  4500.0          0.5\n",
       "46 -0.988831   8.895574  Int5711_52  4900.0   52.0  4600.0          0.5\n",
       "\n",
       "[282 rows x 7 columns]"
      ]
     },
     "execution_count": 13,
     "metadata": {},
     "output_type": "execute_result"
    }
   ],
   "source": [
    "#Calculate over windows at different max_missing values\n",
    "clade='Int5711_52'\n",
    "var=pd.DataFrame(columns=['D', 'Pi_raw', 'clade', 'end', 'lseff', 'start', 'max_missing'])\n",
    "for i in np.arange(0, 0.55, 0.1):\n",
    "    res=sliding_window(clade, i, 300, 100)\n",
    "    res['max_missing']=i\n",
    "    var=pd.concat([var, res])\n",
    "\n",
    "    \n",
    "var"
   ]
  },
  {
   "cell_type": "code",
   "execution_count": 70,
   "id": "a20ce910",
   "metadata": {},
   "outputs": [
    {
     "data": {
      "text/plain": [
       "<matplotlib.lines.Line2D at 0x2af48a2bcc10>"
      ]
     },
     "execution_count": 70,
     "metadata": {},
     "output_type": "execute_result"
    },
    {
     "data": {
      "image/png": "[encoded data removed]",
      "text/plain": [
       "<Figure size 432x288 with 1 Axes>"
      ]
     },
     "metadata": {
      "needs_background": "light"
     },
     "output_type": "display_data"
    }
   ],
   "source": [
    "dat=var[['clade', 'start', 'end', 'lseff', 'Pi_raw', 'D', 'max_missing']]\n",
    "dat['Pi']=dat['Pi_raw']/dat['lseff']\n",
    "dat['midpoint']=dat['start']+150\n",
    "    \n",
    "sns.pointplot(data=dat, x=\"midpoint\", y=\"Pi\", hue='max_missing').set_title(clade)\n",
    "plt.xlabel('Alignment Position')\n",
    "plot.axhline(0.3, ls='--')"
   ]
  },
  {
   "cell_type": "code",
   "execution_count": 14,
   "id": "4d2cea03",
   "metadata": {},
   "outputs": [
    {
     "name": "stdout",
     "output_type": "stream",
     "text": [
      "RppC-like\n",
      "RppC-like\n",
      "RppC-like\n",
      "RppC-like\n"
     ]
    },
    {
     "data": {
      "text/html": [
       "<div>\n",
       "<style scoped>\n",
       "    .dataframe tbody tr th:only-of-type {\n",
       "        vertical-align: middle;\n",
       "    }\n",
       "\n",
       "    .dataframe tbody tr th {\n",
       "        vertical-align: top;\n",
       "    }\n",
       "\n",
       "    .dataframe thead th {\n",
       "        text-align: right;\n",
       "    }\n",
       "</style>\n",
       "<table border=\"1\" class=\"dataframe\">\n",
       "  <thead>\n",
       "    <tr style=\"text-align: right;\">\n",
       "      <th></th>\n",
       "      <th>D</th>\n",
       "      <th>Pi_raw</th>\n",
       "      <th>clade</th>\n",
       "      <th>end</th>\n",
       "      <th>lseff</th>\n",
       "      <th>start</th>\n",
       "      <th>max_missing</th>\n",
       "    </tr>\n",
       "  </thead>\n",
       "  <tbody>\n",
       "    <tr>\n",
       "      <td>0</td>\n",
       "      <td>NaN</td>\n",
       "      <td>NaN</td>\n",
       "      <td>RppC-like</td>\n",
       "      <td>300.0</td>\n",
       "      <td>0.0</td>\n",
       "      <td>0.0</td>\n",
       "      <td>0.2</td>\n",
       "    </tr>\n",
       "    <tr>\n",
       "      <td>1</td>\n",
       "      <td>NaN</td>\n",
       "      <td>NaN</td>\n",
       "      <td>RppC-like</td>\n",
       "      <td>400.0</td>\n",
       "      <td>0.0</td>\n",
       "      <td>100.0</td>\n",
       "      <td>0.2</td>\n",
       "    </tr>\n",
       "    <tr>\n",
       "      <td>2</td>\n",
       "      <td>NaN</td>\n",
       "      <td>NaN</td>\n",
       "      <td>RppC-like</td>\n",
       "      <td>500.0</td>\n",
       "      <td>0.0</td>\n",
       "      <td>200.0</td>\n",
       "      <td>0.2</td>\n",
       "    </tr>\n",
       "    <tr>\n",
       "      <td>3</td>\n",
       "      <td>NaN</td>\n",
       "      <td>NaN</td>\n",
       "      <td>RppC-like</td>\n",
       "      <td>600.0</td>\n",
       "      <td>0.0</td>\n",
       "      <td>300.0</td>\n",
       "      <td>0.2</td>\n",
       "    </tr>\n",
       "    <tr>\n",
       "      <td>4</td>\n",
       "      <td>NaN</td>\n",
       "      <td>NaN</td>\n",
       "      <td>RppC-like</td>\n",
       "      <td>700.0</td>\n",
       "      <td>0.0</td>\n",
       "      <td>400.0</td>\n",
       "      <td>0.2</td>\n",
       "    </tr>\n",
       "    <tr>\n",
       "      <td>...</td>\n",
       "      <td>...</td>\n",
       "      <td>...</td>\n",
       "      <td>...</td>\n",
       "      <td>...</td>\n",
       "      <td>...</td>\n",
       "      <td>...</td>\n",
       "      <td>...</td>\n",
       "    </tr>\n",
       "    <tr>\n",
       "      <td>168</td>\n",
       "      <td>NaN</td>\n",
       "      <td>NaN</td>\n",
       "      <td>RppC-like</td>\n",
       "      <td>17100.0</td>\n",
       "      <td>0.0</td>\n",
       "      <td>16800.0</td>\n",
       "      <td>0.5</td>\n",
       "    </tr>\n",
       "    <tr>\n",
       "      <td>169</td>\n",
       "      <td>NaN</td>\n",
       "      <td>NaN</td>\n",
       "      <td>RppC-like</td>\n",
       "      <td>17200.0</td>\n",
       "      <td>0.0</td>\n",
       "      <td>16900.0</td>\n",
       "      <td>0.5</td>\n",
       "    </tr>\n",
       "    <tr>\n",
       "      <td>170</td>\n",
       "      <td>NaN</td>\n",
       "      <td>NaN</td>\n",
       "      <td>RppC-like</td>\n",
       "      <td>17300.0</td>\n",
       "      <td>0.0</td>\n",
       "      <td>17000.0</td>\n",
       "      <td>0.5</td>\n",
       "    </tr>\n",
       "    <tr>\n",
       "      <td>171</td>\n",
       "      <td>NaN</td>\n",
       "      <td>NaN</td>\n",
       "      <td>RppC-like</td>\n",
       "      <td>17400.0</td>\n",
       "      <td>0.0</td>\n",
       "      <td>17100.0</td>\n",
       "      <td>0.5</td>\n",
       "    </tr>\n",
       "    <tr>\n",
       "      <td>172</td>\n",
       "      <td>NaN</td>\n",
       "      <td>NaN</td>\n",
       "      <td>RppC-like</td>\n",
       "      <td>17500.0</td>\n",
       "      <td>0.0</td>\n",
       "      <td>17200.0</td>\n",
       "      <td>0.5</td>\n",
       "    </tr>\n",
       "  </tbody>\n",
       "</table>\n",
       "<p>692 rows × 7 columns</p>\n",
       "</div>"
      ],
      "text/plain": [
       "      D  Pi_raw      clade      end  lseff    start  max_missing\n",
       "0   NaN     NaN  RppC-like    300.0    0.0      0.0          0.2\n",
       "1   NaN     NaN  RppC-like    400.0    0.0    100.0          0.2\n",
       "2   NaN     NaN  RppC-like    500.0    0.0    200.0          0.2\n",
       "3   NaN     NaN  RppC-like    600.0    0.0    300.0          0.2\n",
       "4   NaN     NaN  RppC-like    700.0    0.0    400.0          0.2\n",
       "..   ..     ...        ...      ...    ...      ...          ...\n",
       "168 NaN     NaN  RppC-like  17100.0    0.0  16800.0          0.5\n",
       "169 NaN     NaN  RppC-like  17200.0    0.0  16900.0          0.5\n",
       "170 NaN     NaN  RppC-like  17300.0    0.0  17000.0          0.5\n",
       "171 NaN     NaN  RppC-like  17400.0    0.0  17100.0          0.5\n",
       "172 NaN     NaN  RppC-like  17500.0    0.0  17200.0          0.5\n",
       "\n",
       "[692 rows x 7 columns]"
      ]
     },
     "execution_count": 14,
     "metadata": {},
     "output_type": "execute_result"
    }
   ],
   "source": [
    "clade='RppC-like'\n",
    "var=pd.DataFrame(columns=['D', 'Pi_raw', 'clade', 'end', 'lseff', 'start', 'max_missing'])\n",
    "for i in np.arange(0.2, 0.55, 0.1):\n",
    "    res=sliding_window(clade, i, 300, 100)\n",
    "    res['max_missing']=i\n",
    "    var=pd.concat([var, res])\n",
    "\n",
    "    \n",
    "var\n",
    "\n",
    "#dat=var[['clade', 'start', 'end', 'lseff', 'Pi_raw', 'D', 'max_missing']]\n",
    "#dat['Pi']=dat['Pi_raw']/dat['lseff']\n",
    "#dat['midpoint']=dat['start']+150\n",
    "    \n",
    "#sns.pointplot(data=dat, x=\"midpoint\", y=\"Pi\", hue='max_missing').set_title(clade)\n",
    "#plt.xlabel('Alignment Position')\n",
    "#plot.axhline(0.3, ls='--')"
   ]
  },
  {
   "cell_type": "code",
   "execution_count": 55,
   "id": "c999efac",
   "metadata": {},
   "outputs": [
    {
     "data": {
      "text/plain": [
       "Text(0.5, 1.0, 'RppC-like')"
      ]
     },
     "execution_count": 55,
     "metadata": {},
     "output_type": "execute_result"
    },
    {
     "data": {
      "image/png": "[encoded data removed]",
      "text/plain": [
       "<Figure size 432x288 with 1 Axes>"
      ]
     },
     "metadata": {
      "needs_background": "light"
     },
     "output_type": "display_data"
    }
   ],
   "source": [
    "dat=var[['clade', 'start', 'end', 'lseff', 'Pi_raw', 'D', 'max_missing']]\n",
    "dat['Pi']=dat['Pi_raw']/dat['lseff']\n",
    "dat['midpoint']=dat['start']+150\n",
    "#print(dat['Pi'])\n",
    "\n",
    "dat['midpoint']\n",
    "max(dat['midpoint'])\n",
    "dat['Pi'].max()\n",
    "\n",
    "dat\n",
    "sns.pointplot(data=dat.loc[dat['max_missing']>0.41], x=\"midpoint\", y=\"Pi\").set_title(clade)\n",
    "#plt.xlabel('Alignment Position')"
   ]
  },
  {
   "cell_type": "code",
   "execution_count": 59,
   "id": "220a5b1f",
   "metadata": {},
   "outputs": [
    {
     "data": {
      "text/plain": [
       "Text(0.5, 1.0, 'RppC-like')"
      ]
     },
     "execution_count": 59,
     "metadata": {},
     "output_type": "execute_result"
    },
    {
     "data": {
      "image/png": "[encoded data removed]",
      "text/plain": [
       "<Figure size 432x288 with 1 Axes>"
      ]
     },
     "metadata": {
      "needs_background": "light"
     },
     "output_type": "display_data"
    }
   ],
   "source": [
    "#dat[dat['max_missing']==0.5]\n",
    "sns.pointplot(data=dat.loc[(dat['max_missing']<0.41) & (dat['max_missing']>0.31)], x=\"midpoint\", y=\"Pi\").set_title(clade)\n"
   ]
  }
 ],
 "metadata": {
  "kernelspec": {
   "display_name": "Python 3.7",
   "language": "python",
   "name": "python3"
  },
  "language_info": {
   "codemirror_mode": {
    "name": "ipython",
    "version": 3
   },
   "file_extension": ".py",
   "mimetype": "text/x-python",
   "name": "python",
   "nbconvert_exporter": "python",
   "pygments_lexer": "ipython3",
   "version": "3.7.4"
  }
 },
 "nbformat": 4,
 "nbformat_minor": 5
}
